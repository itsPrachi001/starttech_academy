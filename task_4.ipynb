{
  "nbformat": 4,
  "nbformat_minor": 0,
  "metadata": {
    "colab": {
      "name": "task_4.ipynb",
      "provenance": [],
      "authorship_tag": "ABX9TyNs7cAy8jN2+pydtbCofEmL",
      "include_colab_link": true
    },
    "kernelspec": {
      "name": "python3",
      "display_name": "Python 3"
    },
    "language_info": {
      "name": "python"
    }
  },
  "cells": [
    {
      "cell_type": "markdown",
      "metadata": {
        "id": "view-in-github",
        "colab_type": "text"
      },
      "source": [
        "<a href=\"https://colab.research.google.com/github/itsPrachi001/starttech_academy/blob/master/task_4.ipynb\" target=\"_parent\"><img src=\"https://colab.research.google.com/assets/colab-badge.svg\" alt=\"Open In Colab\"/></a>"
      ]
    },
    {
      "cell_type": "code",
      "execution_count": null,
      "metadata": {
        "colab": {
          "base_uri": "https://localhost:8080/"
        },
        "id": "7X7hISheaVr1",
        "outputId": "20ad5816-7575-48d7-d482-708cfac8fc14"
      },
      "outputs": [
        {
          "output_type": "stream",
          "name": "stdout",
          "text": [
            "Drive already mounted at /content/drive; to attempt to forcibly remount, call drive.mount(\"/content/drive\", force_remount=True).\n",
            "{'train': 0, 'Valid': 1, 'test': 2}\n",
            "['train', 'Valid', 'test']\n",
            "[0, 1, 2]\n"
          ]
        }
      ],
      "source": [
        "import cv2,os\n",
        "from google.colab import drive\n",
        "drive.mount('/content/drive')\n",
        "data_path='/content/drive/MyDrive/Osteoarthritis_Assignment_dataset'\n",
        "categories=os.listdir(data_path)\n",
        "labels=[i for i in range(len(categories))]\n",
        "\n",
        "label_dict=dict(zip(categories,labels)) #empty dictionary\n",
        "print(label_dict)\n",
        "print(categories)\n",
        "print(labels)"
      ]
    },
    {
      "cell_type": "code",
      "source": [
        "img_size=256\n",
        "data=[]\n",
        "label=[]\n",
        "\n",
        "for category in categories:\n",
        "    folder_path=os.path.join(data_path,category)\n",
        "    img_names=os.listdir(folder_path)\n",
        "        \n",
        "    for img_name in img_names:\n",
        "        img_path=os.path.join(folder_path,img_name)\n",
        "        img=cv2.imread(img_path)\n",
        "        try:\n",
        "            gray = cv2.cvtColor(img, cv2.COLOR_BGR2GRAY)  \n",
        "            resized=cv2.resize(gray,(img_size,img_size))\n",
        "            #resizing the image  into 256 x 256, since we need a fixed common size for all the images in the dataset\n",
        "            data.append(resized)\n",
        "            label.append(label_dict[category])\n",
        "            #appending the image and the label(categorized) into the list (dataset)\n",
        "        except Exception as e:\n",
        "            print('',e)"
      ],
      "metadata": {
        "id": "RswXwLQbbm5k"
      },
      "execution_count": null,
      "outputs": []
    },
    {
      "cell_type": "markdown",
      "source": [
        "Recale and assign catagorical labels"
      ],
      "metadata": {
        "id": "De4_m14fbtaq"
      }
    },
    {
      "cell_type": "code",
      "source": [
        "import numpy as np\n",
        "data=np.array(data)/255.0\n",
        "data=np.reshape(data,(data.shape[0],img_size,img_size,1))\n",
        "label=np.array(label)\n",
        "from keras.utils import np_utils\n",
        "new_label=np_utils.to_categorical(labels)\n",
        "new_label.shape"
      ],
      "metadata": {
        "colab": {
          "base_uri": "https://localhost:8080/"
        },
        "id": "dhG48fSObrgn",
        "outputId": "6593b738-7614-485b-c353-029af4a4783c"
      },
      "execution_count": null,
      "outputs": [
        {
          "output_type": "execute_result",
          "data": {
            "text/plain": [
              "(3, 3)"
            ]
          },
          "metadata": {},
          "execution_count": 37
        }
      ]
    },
    {
      "cell_type": "code",
      "source": [
        "data.shape"
      ],
      "metadata": {
        "colab": {
          "base_uri": "https://localhost:8080/"
        },
        "id": "BL_h1FtLgUMh",
        "outputId": "547a50d4-4f72-4290-b6b4-619bb94ba154"
      },
      "execution_count": null,
      "outputs": [
        {
          "output_type": "execute_result",
          "data": {
            "text/plain": [
              "(0, 256, 256, 1)"
            ]
          },
          "metadata": {},
          "execution_count": 38
        }
      ]
    },
    {
      "cell_type": "code",
      "source": [
        "data.shape[1:]"
      ],
      "metadata": {
        "colab": {
          "base_uri": "https://localhost:8080/"
        },
        "id": "qQixDT7-g_F2",
        "outputId": "01ec6054-456a-44e2-d2d5-c4b973b95798"
      },
      "execution_count": null,
      "outputs": [
        {
          "output_type": "execute_result",
          "data": {
            "text/plain": [
              "(256, 256, 1)"
            ]
          },
          "metadata": {},
          "execution_count": 39
        }
      ]
    },
    {
      "cell_type": "code",
      "source": [
        "\n",
        "from keras.models import Sequential\n",
        "from keras.layers import Dense,Activation,Flatten,Dropout\n",
        "from keras.layers import Conv2D,MaxPooling2D\n",
        "from keras.callbacks import ModelCheckpoint\n",
        "\n",
        "model=Sequential()\n",
        "\n",
        "model.add(Conv2D(128,(3,3),input_shape=data.shape[1:]))\n",
        "model.add(Activation('relu'))\n",
        "model.add(MaxPooling2D(pool_size=(2,2)))\n",
        "#The first CNN layer followed by Relu and MaxPooling layers\n",
        "\n",
        "model.add(Conv2D(64,(3,3)))\n",
        "model.add(Activation('relu'))\n",
        "model.add(MaxPooling2D(pool_size=(2,2)))\n",
        "#The second convolution layer followed by Relu and MaxPooling layers\n",
        "\n",
        "model.add(Conv2D(32,(3,3)))\n",
        "model.add(Activation('relu'))\n",
        "model.add(MaxPooling2D(pool_size=(2,2)))\n",
        "#The thrid convolution layer followed by Relu and MaxPooling layers\n",
        "\n",
        "model.add(Flatten())\n",
        "#Flatten layer to stack the output convolutions from 3rd convolution layer\n",
        "model.add(Dropout(0.2))\n",
        "\n",
        "model.add(Dense(128,activation='relu'))\n",
        "#Dense layer of 128 neurons\n",
        "\n",
        "model.add(Dropout(0.1))\n",
        "model.add(Dense(64,activation='relu'))\n",
        "#Dense layer of 64 neurons\n",
        "\n",
        "model.add(Dense(5,activation='softmax'))\n",
        "#The Final layer with two outputs for two categories\n",
        "\n",
        "model.compile(loss='categorical_crossentropy',optimizer='adam',metrics=['accuracy'])"
      ],
      "metadata": {
        "id": "IZMNK9jLb_x8"
      },
      "execution_count": null,
      "outputs": []
    },
    {
      "cell_type": "code",
      "source": [
        "model.summary()"
      ],
      "metadata": {
        "colab": {
          "base_uri": "https://localhost:8080/"
        },
        "id": "Nfnkar3BcCwZ",
        "outputId": "367333b2-0529-4a2f-cafa-fe17233eb4e5"
      },
      "execution_count": null,
      "outputs": [
        {
          "output_type": "stream",
          "name": "stdout",
          "text": [
            "Model: \"sequential_2\"\n",
            "_________________________________________________________________\n",
            " Layer (type)                Output Shape              Param #   \n",
            "=================================================================\n",
            " conv2d_6 (Conv2D)           (None, 254, 254, 128)     1280      \n",
            "                                                                 \n",
            " activation_6 (Activation)   (None, 254, 254, 128)     0         \n",
            "                                                                 \n",
            " max_pooling2d_6 (MaxPooling  (None, 127, 127, 128)    0         \n",
            " 2D)                                                             \n",
            "                                                                 \n",
            " conv2d_7 (Conv2D)           (None, 125, 125, 64)      73792     \n",
            "                                                                 \n",
            " activation_7 (Activation)   (None, 125, 125, 64)      0         \n",
            "                                                                 \n",
            " max_pooling2d_7 (MaxPooling  (None, 62, 62, 64)       0         \n",
            " 2D)                                                             \n",
            "                                                                 \n",
            " conv2d_8 (Conv2D)           (None, 60, 60, 32)        18464     \n",
            "                                                                 \n",
            " activation_8 (Activation)   (None, 60, 60, 32)        0         \n",
            "                                                                 \n",
            " max_pooling2d_8 (MaxPooling  (None, 30, 30, 32)       0         \n",
            " 2D)                                                             \n",
            "                                                                 \n",
            " flatten_2 (Flatten)         (None, 28800)             0         \n",
            "                                                                 \n",
            " dropout_4 (Dropout)         (None, 28800)             0         \n",
            "                                                                 \n",
            " dense_6 (Dense)             (None, 128)               3686528   \n",
            "                                                                 \n",
            " dropout_5 (Dropout)         (None, 128)               0         \n",
            "                                                                 \n",
            " dense_7 (Dense)             (None, 64)                8256      \n",
            "                                                                 \n",
            " dense_8 (Dense)             (None, 5)                 325       \n",
            "                                                                 \n",
            "=================================================================\n",
            "Total params: 3,788,645\n",
            "Trainable params: 3,788,645\n",
            "Non-trainable params: 0\n",
            "_________________________________________________________________\n"
          ]
        }
      ]
    },
    {
      "cell_type": "code",
      "source": [
        "from sklearn.model_selection import train_test_split\n",
        "x_train,x_test,y_train,y_test=train_test_split(data,new_label,test_size=0.1)"
      ],
      "metadata": {
        "id": "MJpRl2xUdvUD"
      },
      "execution_count": null,
      "outputs": []
    },
    {
      "cell_type": "code",
      "source": [
        "import matplotlib.pyplot as plt\n",
        "plt.figure(figsize=(10,10))\n",
        "for i in range(20):\n",
        "    plt.subplot(5,5,i+1)\n",
        "    plt.xticks([])\n",
        "    plt.yticks([])\n",
        "    plt.grid(False)\n",
        "    plt.imshow(np.squeeze(x_test[i]))\n",
        "    plt.xlabel(categories[np.argmax(y_test[i])])\n",
        "plt.show()"
      ],
      "metadata": {
        "id": "_OuBX0eHdk39"
      },
      "execution_count": null,
      "outputs": []
    },
    {
      "cell_type": "code",
      "source": [
        "history=model.fit(x_train,y_train,epochs=100,validation_split=0.2)"
      ],
      "metadata": {
        "id": "anwQJbQ7i7Mz"
      },
      "execution_count": null,
      "outputs": []
    },
    {
      "cell_type": "code",
      "source": [
        "model.save('model.h5')"
      ],
      "metadata": {
        "id": "NiECoa97ssHT"
      },
      "execution_count": null,
      "outputs": []
    },
    {
      "cell_type": "code",
      "source": [
        "N = 100 #number of epochs\n",
        "plt.style.use(\"ggplot\")\n",
        "plt.figure()\n",
        "plt.plot(np.arange(0, N), history.history[\"loss\"], label=\"train_loss\")\n",
        "plt.plot(np.arange(0, N), history.history[\"val_loss\"], label=\"val_loss\")\n",
        "plt.plot(np.arange(0, N), history.history[\"accuracy\"], label=\"train_acc\")\n",
        "plt.plot(np.arange(0, N), history.history[\"val_accuracy\"], label=\"val_acc\")\n",
        "plt.title(\"Training Loss and Accuracy\")\n",
        "plt.xlabel(\"Epoch #\")\n",
        "plt.ylabel(\"Loss/Accuracy\")\n",
        "plt.legend(loc=\"center right\")\n",
        "plt.savefig(\"CNN_Model\")"
      ],
      "metadata": {
        "id": "_7vPqn_Fsy6j"
      },
      "execution_count": null,
      "outputs": []
    },
    {
      "cell_type": "code",
      "source": [
        "vaL_loss, val_accuracy= model.evaluate(x_test, y_test, verbose=0)\n",
        "print(\"test loss:\", vaL_loss,'%')\n",
        "print(\"test accuracy:\", val_accuracy,\"%\")"
      ],
      "metadata": {
        "id": "8_j0jY_Ns27-"
      },
      "execution_count": null,
      "outputs": []
    },
    {
      "cell_type": "code",
      "source": [
        "X = 32\n",
        "\n",
        "img_size = 256\n",
        "\n",
        "img_single = x_test[X]\n",
        "img_single = cv2.resize(img_single, (img_size, img_size))\n",
        "img_single = (np.expand_dims(img_single, 0))\n",
        "img_single = img_single.reshape(img_single.shape[0],256,256,1)\n",
        "\n",
        "predictions_single = model.predict(img_single)\n",
        "print('A.I predicts:',categories[np.argmax(predictions_single)])\n",
        "print(\"Correct prediction for label\",np.argmax(y_test[X]),'is',categories[np.argmax(y_test[X])])\n",
        "plt.imshow(np.squeeze(img_single))\n",
        "plt.grid(False)\n",
        "plt.show()"
      ],
      "metadata": {
        "id": "MjwXt96es7U8"
      },
      "execution_count": null,
      "outputs": []
    },
    {
      "cell_type": "code",
      "source": [
        "from sklearn.metrics import confusion_matrix\n",
        "from mlxtend.plotting import plot_confusion_matrix\n",
        "\n",
        "test_labels = np.argmax(y_test, axis=1)\n",
        "predictions = model.predict(x_test)\n",
        "predictions = np.argmax(predictions, axis=-1)\n",
        "\n",
        "\n",
        "cm  = confusion_matrix(test_labels, predictions)\n",
        "plt.figure()\n",
        "plot_confusion_matrix(cm,figsize=(12,8), hide_ticks=True,cmap=plt.cm.Blues)\n",
        "plt.xticks(range(2), ['normal','osteoarthiritis'], fontsize=16)\n",
        "plt.yticks(range(2), ['normal','osteoarthiritis'], fontsize=16)\n",
        "plt.show()"
      ],
      "metadata": {
        "id": "EOxUMzZPs-s4"
      },
      "execution_count": null,
      "outputs": []
    },
    {
      "cell_type": "code",
      "source": [
        ""
      ],
      "metadata": {
        "id": "gq9Ol9hTtC3G"
      },
      "execution_count": null,
      "outputs": []
    }
  ]
}